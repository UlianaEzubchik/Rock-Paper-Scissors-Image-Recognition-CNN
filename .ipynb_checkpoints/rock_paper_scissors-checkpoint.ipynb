{
 "cells": [
  {
   "cell_type": "code",
   "execution_count": 6,
   "id": "fa11bd0d",
   "metadata": {},
   "outputs": [
    {
     "data": {
      "text/plain": [
       "('C:\\\\Users\\\\ulyaa\\\\! PROJECTS !\\\\Resume projects\\\\Image recognition and classification\\\\Rock Paper Scissors (image recognition cnn)\\\\rps-test-set.zip',\n",
       " <http.client.HTTPMessage at 0x2b3b6790e10>)"
      ]
     },
     "execution_count": 6,
     "metadata": {},
     "output_type": "execute_result"
    }
   ],
   "source": [
    "import os\n",
    "import urllib.request\n",
    "\n",
    "# Get the current working directory\n",
    "cwd = os.getcwd()\n",
    "\n",
    "# Download the training dataset\n",
    "url_train = \"https://storage.googleapis.com/learning-datasets/rps.zip\"\n",
    "urllib.request.urlretrieve(url_train, os.path.join(cwd, \"rps.zip\"))\n",
    "\n",
    "# Download the test dataset\n",
    "url_test = \"https://storage.googleapis.com/learning-datasets/rps-test-set.zip\"\n",
    "urllib.request.urlretrieve(url_test, os.path.join(cwd, \"rps-test-set.zip\"))\n"
   ]
  },
  {
   "cell_type": "code",
   "execution_count": 7,
   "id": "41d49918",
   "metadata": {},
   "outputs": [],
   "source": [
    "import zipfile\n",
    "\n",
    "# Define the paths to the zip files\n",
    "zip_file_paths = [\"rps.zip\", \"rps-test-set.zip\"]\n",
    "\n",
    "# Get the current working directory\n",
    "cwd = os.getcwd()\n",
    "\n",
    "# Unzip each file in the current working directory\n",
    "for zip_file_path in zip_file_paths:\n",
    "    with zipfile.ZipFile(zip_file_path, 'r') as zip_ref:\n",
    "        zip_ref.extractall(cwd)"
   ]
  },
  {
   "cell_type": "code",
   "execution_count": 15,
   "id": "440bcae9",
   "metadata": {},
   "outputs": [
    {
     "name": "stdout",
     "output_type": "stream",
     "text": [
      "Found 2520 images belonging to 3 classes.\n"
     ]
    }
   ],
   "source": [
    "import tensorflow as tf\n",
    "from tensorflow.keras.preprocessing.image import ImageDataGenerator\n",
    "\n",
    "TRAINING_DIR = 'rps/'\n",
    "training_datagen = ImageDataGenerator(\n",
    "    rescale = 1./255,\n",
    "    rotation_range=40,\n",
    "    width_shift_range=0.2,\n",
    "    height_shift_range=0.2,\n",
    "    shear_range=0.2,\n",
    "    zoom_range=0.2,\n",
    "    horizontal_flip=True,\n",
    "    fill_mode='nearest')\n",
    "\n",
    "train_generator = training_datagen.flow_from_directory(\n",
    "    TRAINING_DIR,\n",
    "    target_size = (150, 150),\n",
    "    class_mode = 'categorical'\n",
    ")"
   ]
  },
  {
   "cell_type": "code",
   "execution_count": 16,
   "id": "0752b7f7",
   "metadata": {},
   "outputs": [
    {
     "name": "stdout",
     "output_type": "stream",
     "text": [
      "Found 372 images belonging to 3 classes.\n"
     ]
    }
   ],
   "source": [
    "VALIDATION_DIR = 'rps-test-set'\n",
    "validation_datagen = ImageDataGenerator(rescale = 1./255)\n",
    "\n",
    "validation_generator = validation_datagen.flow_from_directory(\n",
    "    VALIDATION_DIR,\n",
    "    target_size = (150, 150),\n",
    "    class_mode = 'categorical'\n",
    ")"
   ]
  },
  {
   "cell_type": "code",
   "execution_count": 19,
   "id": "8eb7f6c8",
   "metadata": {},
   "outputs": [],
   "source": [
    "from tensorflow import keras\n",
    "\n",
    "model = tf.keras.models.Sequential([\n",
    "    keras.layers.Conv2D(64, (3,3), activation='relu', input_shape=(150,150,3)),\n",
    "    keras.layers.MaxPooling2D(2,2),\n",
    "    keras.layers.Conv2D(64, (3,3), activation='relu'),\n",
    "    keras.layers.MaxPooling2D(2,2),\n",
    "    keras.layers.Conv2D(64, (3,3), activation='relu'),\n",
    "    keras.layers.MaxPooling2D(2,2),\n",
    "    keras.layers.Conv2D(64, (3,3), activation='relu'),\n",
    "    keras.layers.MaxPooling2D(2,2),\n",
    "    \n",
    "    keras.layers.Flatten(),\n",
    "    keras.layers.Dropout(0.5),\n",
    "    \n",
    "    keras.layers.Dense(512, activation='relu'),\n",
    "    keras.layers.Dense(3, activation='softmax')\n",
    "])"
   ]
  },
  {
   "cell_type": "code",
   "execution_count": 20,
   "id": "dfd6f973",
   "metadata": {},
   "outputs": [
    {
     "name": "stdout",
     "output_type": "stream",
     "text": [
      "WARNING:tensorflow:From C:\\Users\\ulyaa\\anaconda3\\Lib\\site-packages\\keras\\src\\optimizers\\__init__.py:309: The name tf.train.Optimizer is deprecated. Please use tf.compat.v1.train.Optimizer instead.\n",
      "\n"
     ]
    }
   ],
   "source": [
    "model.compile(loss = 'categorical_crossentropy', optimizer='rmsprop', metrics=['accuracy'])"
   ]
  },
  {
   "cell_type": "code",
   "execution_count": 21,
   "id": "644e178a",
   "metadata": {
    "scrolled": true
   },
   "outputs": [
    {
     "name": "stderr",
     "output_type": "stream",
     "text": [
      "C:\\Users\\ulyaa\\AppData\\Local\\Temp\\ipykernel_10712\\560590515.py:1: UserWarning: `Model.fit_generator` is deprecated and will be removed in a future version. Please use `Model.fit`, which supports generators.\n",
      "  history = model.fit_generator(train_generator, epochs=25, validation_data = validation_generator, verbose = 1)\n"
     ]
    },
    {
     "name": "stdout",
     "output_type": "stream",
     "text": [
      "Epoch 1/25\n",
      "WARNING:tensorflow:From C:\\Users\\ulyaa\\anaconda3\\Lib\\site-packages\\keras\\src\\utils\\tf_utils.py:492: The name tf.ragged.RaggedTensorValue is deprecated. Please use tf.compat.v1.ragged.RaggedTensorValue instead.\n",
      "\n",
      "WARNING:tensorflow:From C:\\Users\\ulyaa\\anaconda3\\Lib\\site-packages\\keras\\src\\engine\\base_layer_utils.py:384: The name tf.executing_eagerly_outside_functions is deprecated. Please use tf.compat.v1.executing_eagerly_outside_functions instead.\n",
      "\n",
      "79/79 [==============================] - 80s 994ms/step - loss: 1.1567 - accuracy: 0.3544 - val_loss: 1.0287 - val_accuracy: 0.7796\n",
      "Epoch 2/25\n",
      "79/79 [==============================] - 55s 690ms/step - loss: 0.9291 - accuracy: 0.5325 - val_loss: 0.4608 - val_accuracy: 0.9005\n",
      "Epoch 3/25\n",
      "79/79 [==============================] - 52s 651ms/step - loss: 0.6295 - accuracy: 0.7214 - val_loss: 0.6194 - val_accuracy: 0.6667\n",
      "Epoch 4/25\n",
      "79/79 [==============================] - 52s 656ms/step - loss: 0.4582 - accuracy: 0.8210 - val_loss: 0.1766 - val_accuracy: 0.8925\n",
      "Epoch 5/25\n",
      "79/79 [==============================] - 54s 685ms/step - loss: 0.3433 - accuracy: 0.8675 - val_loss: 0.2298 - val_accuracy: 0.9167\n",
      "Epoch 6/25\n",
      "79/79 [==============================] - 55s 691ms/step - loss: 0.2740 - accuracy: 0.8984 - val_loss: 0.1137 - val_accuracy: 0.9731\n",
      "Epoch 7/25\n",
      "79/79 [==============================] - 54s 680ms/step - loss: 0.2210 - accuracy: 0.9214 - val_loss: 0.0717 - val_accuracy: 0.9731\n",
      "Epoch 8/25\n",
      "79/79 [==============================] - 57s 720ms/step - loss: 0.1909 - accuracy: 0.9306 - val_loss: 0.0956 - val_accuracy: 0.9651\n",
      "Epoch 9/25\n",
      "79/79 [==============================] - 53s 670ms/step - loss: 0.1522 - accuracy: 0.9476 - val_loss: 0.0173 - val_accuracy: 1.0000\n",
      "Epoch 10/25\n",
      "79/79 [==============================] - 52s 662ms/step - loss: 0.1411 - accuracy: 0.9480 - val_loss: 0.3041 - val_accuracy: 0.8925\n",
      "Epoch 11/25\n",
      "79/79 [==============================] - 52s 655ms/step - loss: 0.1314 - accuracy: 0.9520 - val_loss: 0.1318 - val_accuracy: 0.9489\n",
      "Epoch 12/25\n",
      "79/79 [==============================] - 52s 651ms/step - loss: 0.1343 - accuracy: 0.9524 - val_loss: 0.0347 - val_accuracy: 1.0000\n",
      "Epoch 13/25\n",
      "79/79 [==============================] - 52s 660ms/step - loss: 0.1179 - accuracy: 0.9591 - val_loss: 0.0530 - val_accuracy: 0.9785\n",
      "Epoch 14/25\n",
      "79/79 [==============================] - 52s 653ms/step - loss: 0.1101 - accuracy: 0.9591 - val_loss: 0.0520 - val_accuracy: 0.9785\n",
      "Epoch 15/25\n",
      "79/79 [==============================] - 52s 653ms/step - loss: 0.1284 - accuracy: 0.9575 - val_loss: 0.2034 - val_accuracy: 0.9059\n",
      "Epoch 16/25\n",
      "79/79 [==============================] - 52s 655ms/step - loss: 0.0951 - accuracy: 0.9675 - val_loss: 0.0943 - val_accuracy: 0.9812\n",
      "Epoch 17/25\n",
      "79/79 [==============================] - 52s 656ms/step - loss: 0.0928 - accuracy: 0.9679 - val_loss: 0.0680 - val_accuracy: 0.9704\n",
      "Epoch 18/25\n",
      "79/79 [==============================] - 52s 655ms/step - loss: 0.1009 - accuracy: 0.9667 - val_loss: 0.0263 - val_accuracy: 0.9946\n",
      "Epoch 19/25\n",
      "79/79 [==============================] - 52s 658ms/step - loss: 0.0764 - accuracy: 0.9774 - val_loss: 0.0647 - val_accuracy: 0.9758\n",
      "Epoch 20/25\n",
      "79/79 [==============================] - 52s 662ms/step - loss: 0.1028 - accuracy: 0.9667 - val_loss: 0.0851 - val_accuracy: 0.9651\n",
      "Epoch 21/25\n",
      "79/79 [==============================] - 51s 649ms/step - loss: 0.0887 - accuracy: 0.9730 - val_loss: 0.0257 - val_accuracy: 0.9866\n",
      "Epoch 22/25\n",
      "79/79 [==============================] - 52s 657ms/step - loss: 0.0719 - accuracy: 0.9786 - val_loss: 0.0543 - val_accuracy: 0.9731\n",
      "Epoch 23/25\n",
      "79/79 [==============================] - 51s 649ms/step - loss: 0.0806 - accuracy: 0.9730 - val_loss: 0.0056 - val_accuracy: 1.0000\n",
      "Epoch 24/25\n",
      "79/79 [==============================] - 52s 654ms/step - loss: 0.0698 - accuracy: 0.9813 - val_loss: 0.0551 - val_accuracy: 0.9731\n",
      "Epoch 25/25\n",
      "79/79 [==============================] - 52s 654ms/step - loss: 0.0582 - accuracy: 0.9790 - val_loss: 0.0138 - val_accuracy: 1.0000\n"
     ]
    }
   ],
   "source": [
    "history = model.fit_generator(train_generator, epochs=25, validation_data = validation_generator, verbose = 1)"
   ]
  },
  {
   "cell_type": "code",
   "execution_count": 22,
   "id": "0b21f175",
   "metadata": {},
   "outputs": [
    {
     "data": {
      "image/png": "[encoded data removed]",
      "text/plain": [
       "<Figure size 640x480 with 1 Axes>"
      ]
     },
     "metadata": {},
     "output_type": "display_data"
    },
    {
     "data": {
      "text/plain": [
       "<Figure size 640x480 with 0 Axes>"
      ]
     },
     "metadata": {},
     "output_type": "display_data"
    }
   ],
   "source": [
    "import matplotlib.pyplot as plt\n",
    "acc = history.history['accuracy']\n",
    "val_acc = history.history['val_accuracy']\n",
    "loss = history.history['loss']\n",
    "val_loss = history.history['val_loss']\n",
    "\n",
    "epochs = range(len(acc))\n",
    "\n",
    "plt.plot(epochs, acc, 'r', label='Training accuracy')\n",
    "plt.plot(epochs, val_acc, 'b', label='Validation accuracy')\n",
    "plt.title('Training and validation accuracy')\n",
    "plt.legend(loc=0)\n",
    "plt.figure()\n",
    "\n",
    "\n",
    "plt.show()"
   ]
  },
  {
   "cell_type": "code",
   "execution_count": 30,
   "id": "11194309",
   "metadata": {},
   "outputs": [
    {
     "name": "stderr",
     "output_type": "stream",
     "text": [
      "C:\\Users\\ulyaa\\anaconda3\\Lib\\site-packages\\keras\\src\\engine\\training.py:3103: UserWarning: You are saving your model as an HDF5 file via `model.save()`. This file format is considered legacy. We recommend using instead the native Keras format, e.g. `model.save('my_model.keras')`.\n",
      "  saving_api.save_model(\n"
     ]
    }
   ],
   "source": [
    "# Save the trained model\n",
    "model.save(\"rps_model.h5\")"
   ]
  },
  {
   "cell_type": "code",
   "execution_count": 32,
   "id": "9bb67a0c",
   "metadata": {
    "scrolled": true
   },
   "outputs": [
    {
     "name": "stdout",
     "output_type": "stream",
     "text": [
      "12/12 [==============================] - 2s 123ms/step\n"
     ]
    },
    {
     "data": {
      "text/plain": [
       "array([5.1219496e-07, 4.2607166e-08, 9.9999952e-01], dtype=float32)"
      ]
     },
     "execution_count": 32,
     "metadata": {},
     "output_type": "execute_result"
    }
   ],
   "source": [
    "classes = model.predict(validation_generator, batch_size=10)\n",
    "classes[1]"
   ]
  },
  {
   "cell_type": "code",
   "execution_count": 42,
   "id": "42f717ca",
   "metadata": {},
   "outputs": [
    {
     "name": "stderr",
     "output_type": "stream",
     "text": [
      "C:\\Users\\ulyaa\\AppData\\Local\\Temp\\ipykernel_10712\\3071415204.py:2: UserWarning: `Model.evaluate_generator` is deprecated and will be removed in a future version. Please use `Model.evaluate`, which supports generators.\n",
      "  loss_value, accuracy = model.evaluate_generator(validation_generator)\n"
     ]
    },
    {
     "name": "stdout",
     "output_type": "stream",
     "text": [
      "Validation Loss: 0.013772637583315372\n",
      "Validation Accuracy: 1.0\n"
     ]
    }
   ],
   "source": [
    "# Evaluate the model on the validation data generator\n",
    "loss_value, accuracy = model.evaluate_generator(validation_generator)\n",
    "\n",
    "# Print the evaluation results\n",
    "print(\"Validation Loss:\", loss_value)\n",
    "print(\"Validation Accuracy:\", accuracy)"
   ]
  },
  {
   "cell_type": "code",
   "execution_count": null,
   "id": "86263477",
   "metadata": {},
   "outputs": [],
   "source": []
  }
 ],
 "metadata": {
  "kernelspec": {
   "display_name": "Python 3 (ipykernel)",
   "language": "python",
   "name": "python3"
  },
  "language_info": {
   "codemirror_mode": {
    "name": "ipython",
    "version": 3
   },
   "file_extension": ".py",
   "mimetype": "text/x-python",
   "name": "python",
   "nbconvert_exporter": "python",
   "pygments_lexer": "ipython3",
   "version": "3.11.5"
  }
 },
 "nbformat": 4,
 "nbformat_minor": 5
}
